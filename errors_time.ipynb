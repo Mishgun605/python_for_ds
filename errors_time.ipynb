{
 "cells": [
  {
   "cell_type": "markdown",
   "metadata": {},
   "source": [
    "### Домашнее задание к лекции «Исключения и обработка ошибок»"
   ]
  },
  {
   "cell_type": "markdown",
   "metadata": {},
   "source": [
    "##### Оглавление\n",
    "[Задание 1.](#task1)   \n",
    "[Задание 2.](#task2)  \n",
    "[Задание 3.](#task3)   \n",
    "[Задание 4.](#task4) "
   ]
  },
  {
   "cell_type": "markdown",
   "metadata": {},
   "source": [
    "<h5 style=\"color:Red\">Задание 1.</h5><a id='task1'></a> - Печатные газеты использовали свой формат дат для каждого выпуска. Для каждой газеты из списка напишите формат указанной даты для перевода в объект datetime:\n",
    "- The Moscow Times - Wednesday, October 2, 2002  \n",
    "- The Guardian - Friday, 11.10.13  \n",
    "- Daily News - Thursday, 18 August 1977  "
   ]
  },
  {
   "cell_type": "code",
   "execution_count": 1,
   "metadata": {},
   "outputs": [],
   "source": [
    "newspapers = {'The_Moscow_Times' : 'Wednesday, October 2, 2002',\n",
    "'The_Guardian': 'Friday, 11.10.13',\n",
    "'Daily_News' : 'Thursday, 18 August 1977'}\n",
    "formats = ['%A, %B %d, %Y', '%A, %d.%m.%y', '%A, %d %B %Y']\n"
   ]
  },
  {
   "cell_type": "code",
   "execution_count": null,
   "metadata": {},
   "outputs": [],
   "source": [
    "from datetime import datetime\n",
    "for el in newspapers.values():\n",
    "    for format_ in formats:\n",
    "        try:\n",
    "            print (datetime.strptime(el, format_))\n",
    "        except:\n",
    "            pass\n"
   ]
  },
  {
   "cell_type": "markdown",
   "metadata": {},
   "source": [
    "<h5 style=\"color:Red\">Задание 2.</h5><a id='task2'></a> - Дан поток дат в формате YYYY-MM-DD, в которых встречаются некорректные значения:\n",
    "stream = [‘2018-04-02’, ‘2018-02-29’, ‘2018-19-02’]\n",
    "\n",
    "Напишите функцию, которая проверяет эти даты на корректность."
   ]
  },
  {
   "cell_type": "code",
   "execution_count": 3,
   "metadata": {},
   "outputs": [],
   "source": [
    "stream = ['2018-04-02', '2018-02-29', '2018-19-02']"
   ]
  },
  {
   "cell_type": "code",
   "execution_count": 5,
   "metadata": {},
   "outputs": [],
   "source": [
    "from datetime import datetime\n",
    "\n",
    "def correct():\n",
    "    valid = []\n",
    "    for el in stream:\n",
    "        try:\n",
    "            el = datetime.strptime(el, '%Y-%m-%d')\n",
    "            valid.append('True')\n",
    "        except:\n",
    "            valid.append('False')\n",
    "    \n",
    "    return valid"
   ]
  },
  {
   "cell_type": "markdown",
   "metadata": {},
   "source": [
    "<h5 style=\"color:Red\">Задание 3.</h5><a id='task3'></a> - Напишите функцию date_range, которая возвращает список дат за период от start_date до end_date. Даты должны вводиться в формате YYYY-MM-DD. В случае неверного формата или при start_date > end_date должен возвращаться пустой список."
   ]
  },
  {
   "cell_type": "code",
   "execution_count": null,
   "metadata": {},
   "outputs": [],
   "source": [
    "from datetime import datetime\n",
    "from datetime import timedelta\n",
    "import traceback\n",
    "\n",
    "start_date = input('enter the start date as YYYY-MM-DD: ')\n",
    "end_date = input('enter the end date as YYYY-MM-DD: ')\n",
    "\n",
    "\n",
    "def date_range():\n",
    "    start_dt = datetime.strptime(start_date, '%Y-%m-%d')\n",
    "    end_dt = datetime.strptime(end_date, '%Y-%m-%d')\n",
    "    days = [datetime.strftime(start_dt, '%Y-%m-%d')]\n",
    "    ls = []\n",
    "    if start_dt >= end_dt:\n",
    "        print(ls)\n",
    "    else:\n",
    "        while start_dt <= end_dt:\n",
    "            start_dt += timedelta(days=1)\n",
    "            result = datetime.strftime(start_dt, '%Y-%m-%d')\n",
    "            days.append(result)\n",
    "    return(days)\n",
    "\n",
    "date_range()\n",
    "# не получилось обработать ошибку с некорректным вводом даты"
   ]
  }
 ],
 "metadata": {
  "interpreter": {
   "hash": "b3ba2566441a7c06988d0923437866b63cedc61552a5af99d1f4fb67d367b25f"
  },
  "kernelspec": {
   "display_name": "Python 3.7.0 ('base')",
   "language": "python",
   "name": "python3"
  },
  "language_info": {
   "codemirror_mode": {
    "name": "ipython",
    "version": 3
   },
   "file_extension": ".py",
   "mimetype": "text/x-python",
   "name": "python",
   "nbconvert_exporter": "python",
   "pygments_lexer": "ipython3",
   "version": "3.7.0"
  },
  "orig_nbformat": 4
 },
 "nbformat": 4,
 "nbformat_minor": 2
}
