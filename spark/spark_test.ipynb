{
 "cells": [
  {
   "cell_type": "markdown",
   "metadata": {},
   "source": [
    "Название фильма записано во втором столбце title.\n",
    "Разбейте названия фильмов на отдельные слова и посчитайте какое слово встречается чаще всего."
   ]
  },
  {
   "cell_type": "code",
   "execution_count": null,
   "metadata": {},
   "outputs": [],
   "source": [
    "import pandas as pd"
   ]
  },
  {
   "cell_type": "code",
   "execution_count": 26,
   "metadata": {},
   "outputs": [
    {
     "name": "stderr",
     "output_type": "stream",
     "text": [
      "C:\\Users\\User\\AppData\\Local\\Temp\\ipykernel_6248\\619790151.py:1: FutureWarning: The squeeze argument has been deprecated and will be removed in a future version. Append .squeeze(\"columns\") to the call to squeeze.\n",
      "\n",
      "\n",
      "  df = pd.read_csv(\"movies.csv\", usecols=['title'], squeeze=True)\n"
     ]
    },
    {
     "data": {
      "text/plain": [
       "The    2101\n",
       "of      936\n",
       "the     916\n",
       "and     330\n",
       "in      234\n",
       "Name: 0, dtype: int64"
      ]
     },
     "execution_count": 26,
     "metadata": {},
     "output_type": "execute_result"
    }
   ],
   "source": [
    "df = pd.read_csv(\"movies.csv\", usecols=['title'], squeeze=True)\n",
    "res = df.str.replace(r\"\\(.+\\)\",\"\", regex=True).str.extractall(\"(\\S+)\").reset_index()[0].value_counts()\n",
    "res.head(5)\n",
    "#слово 'The' встречается больше всего раз - 2101"
   ]
  }
 ],
 "metadata": {
  "kernelspec": {
   "display_name": "Python 3.9.13 64-bit",
   "language": "python",
   "name": "python3"
  },
  "language_info": {
   "codemirror_mode": {
    "name": "ipython",
    "version": 3
   },
   "file_extension": ".py",
   "mimetype": "text/x-python",
   "name": "python",
   "nbconvert_exporter": "python",
   "pygments_lexer": "ipython3",
   "version": "3.9.13"
  },
  "orig_nbformat": 4,
  "vscode": {
   "interpreter": {
    "hash": "cf92aa13fedf815d5c8dd192b8d835913fde3e8bc926b2a0ad6cc74ef2ba3ca2"
   }
  }
 },
 "nbformat": 4,
 "nbformat_minor": 2
}
