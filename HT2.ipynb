{
 "cells": [
  {
   "cell_type": "markdown",
   "metadata": {},
   "source": [
    "###  Домашнее задание к лекции «Управляющие конструкции и коллекции» часть 2."
   ]
  },
  {
   "cell_type": "markdown",
   "metadata": {},
   "source": [
    "1.[Задание 1.](#task1)  \n",
    "    Условие: Дана переменная, в которой хранится словарь, содержащий гео-метки для каждого пользователя (пример структуры данных приведен ниже). Вам необходимо написать программу, которая выведет на экран множество уникальных гео-меток всех пользователей.\n",
    "Пример работы программы:  \n",
    "ids = {‘user1’: [213, 213, 213, 15, 213],  \n",
    "‘user2’: [54, 54, 119, 119, 119],  \n",
    "‘user3’: [213, 98, 98, 35]}  \n",
    "Результат: {98, 35, 15, 213, 54, 119}  \n",
    "2.[Задание 2.](#task2)  \n",
    "    Условие: Дана переменная, в которой хранится список поисковых запросов пользователя (пример структуры данных приведен ниже). Вам необходимо написать программу, которая выведет на экран распределение количества слов в запросах в требуемом виде.\n",
    "Пример работы программы:  \n",
    "queries = [\n",
    "‘смотреть сериалы онлайн’,  \n",
    "‘новости спорта’,  \n",
    "‘афиша кино’,  \n",
    "‘курс доллара’,  \n",
    "‘сериалы этим летом’,  \n",
    "‘курс по питону’,  \n",
    "‘сериалы про спорт’,  \n",
    "]  \n",
    "Результат: \n",
    "Поисковых запросов, содержащих 2 слов(а): 42.86%\n",
    "Поисковых запросов, содержащих 3 слов(а): 57.14%  \n",
    "3.[Задание 3.](#task3)  \n",
    "    Условие: Дана переменная, в которой хранится информация о затратах и доходе рекламных кампаний по различным источникам. Необходимо дополнить исходную структуру показателем ROI, который рассчитаем по формуле: (revenue / cost - 1) * 100\n",
    "Пример работы программы:  \n",
    "results = {\n",
    "‘vk’: {‘revenue’: 103, ‘cost’: 98},  \n",
    "‘yandex’: {‘revenue’: 179, ‘cost’: 153},  \n",
    "‘facebook’: {‘revenue’: 103, ‘cost’: 110},  \n",
    "‘adwords’: {‘revenue’: 35, ‘cost’: 34},  \n",
    "‘twitter’: {‘revenue’: 11, ‘cost’: 24},  \n",
    "}  \n",
    "Результат:  \n",
    "{‘adwords’: {‘ROI’: 2.94, ‘cost’: 34, ‘revenue’: 35},  \n",
    "‘facebook’: {‘ROI’: -6.36, ‘cost’: 110, ‘revenue’: 103},  \n",
    "‘twitter’: {‘ROI’: -54.17, ‘cost’: 24, ‘revenue’: 11},  \n",
    "‘vk’: {‘ROI’: 5.1, ‘cost’: 98, ‘revenue’: 103},  \n",
    "‘yandex’: {‘ROI’: 16.99, ‘cost’: 153, ‘revenue’: 179}}  \n",
    "4.[Задание 4.](#task4)   \n",
    "    Условие: Дана переменная, в которой хранится статистика рекламных каналов по объемам продаж (пример структуры данных приведен ниже). Напишите программу, которая возвращает название канала с максимальным объемом продаж.  \n",
    "Пример работы программы:  \n",
    "stats = {‘facebook’: 55, ‘yandex’: 115, ‘vk’: 120, ‘google’: 99, ‘email’: 42, ‘ok’: 98}  \n",
    "Результат: Максимальный объем продаж на рекламном канале: vk  "
   ]
  },
  {
   "cell_type": "markdown",
   "metadata": {},
   "source": [
    "<h5 style=\"color:Red\">Задание 1.</h5><a id='task1'></a>"
   ]
  },
  {
   "cell_type": "code",
   "execution_count": 11,
   "metadata": {},
   "outputs": [
    {
     "name": "stdout",
     "output_type": "stream",
     "text": [
      "{98, 35, 15, 213, 54, 119}\n"
     ]
    }
   ],
   "source": [
    "ids = {'user1': [213, 213, 213, 15, 213],\n",
    "'user2': [54, 54, 119, 119, 119],\n",
    "'user3': [213, 98, 98, 35]}\n",
    "\n",
    "un_ids = []\n",
    "\n",
    "for id_ in ids.values():\n",
    "    if type(id_) == list:\n",
    "        un_ids += id_\n",
    "    else:\n",
    "        un_ids.append(id_)\n",
    "\n",
    "print(set(un_ids))"
   ]
  },
  {
   "cell_type": "markdown",
   "metadata": {},
   "source": [
    "<h5 style=\"color:Red\">Задание 2.</h5><a id='task2'></a>"
   ]
  },
  {
   "cell_type": "code",
   "execution_count": 38,
   "metadata": {},
   "outputs": [
    {
     "name": "stdout",
     "output_type": "stream",
     "text": [
      "Поисковых запросов из одного слова:  0.0 %\n",
      "Поисковых запросов из двух слов:  42.86 %\n",
      "Поисковых запросов из трех слов:  57.14 %\n"
     ]
    }
   ],
   "source": [
    "sum_1_word = 0\n",
    "sum_2_words = 0\n",
    "sum_3_words = 0\n",
    "\n",
    "for words_qnty in queries:\n",
    "    if len(words_qnty.split()) == 1:\n",
    "        sum_1_word += 1\n",
    "    elif len(words_qnty.split()) == 2:\n",
    "        sum_2_words += 1\n",
    "    else:\n",
    "        sum_3_words += 1\n",
    "\n",
    "total_summ = sum_1_word + sum_2_words + sum_3_words\n",
    "      \n",
    "print('Поисковых запросов из одного слова: ', round((sum_1_word / total_summ)*100, 2), '%')\n",
    "print('Поисковых запросов из двух слов: ', round((sum_2_words / total_summ)*100, 2), '%')\n",
    "print('Поисковых запросов из трех слов: ', round((sum_3_words / total_summ)*100, 2), '%')"
   ]
  },
  {
   "cell_type": "markdown",
   "metadata": {},
   "source": [
    "<h5 style=\"color:Red\">Задание 3.</h5><a id='task3'></a>"
   ]
  },
  {
   "cell_type": "code",
   "execution_count": 86,
   "metadata": {},
   "outputs": [
    {
     "name": "stdout",
     "output_type": "stream",
     "text": [
      "vk\n",
      "ROI 5.102040816326525\n",
      "revenue 103\n",
      "cost 98\n",
      "yandex\n",
      "ROI 16.99346405228759\n",
      "revenue 179\n",
      "cost 153\n",
      "facebook\n",
      "ROI -6.36363636363636\n",
      "revenue 103\n",
      "cost 110\n",
      "adwords\n",
      "ROI 2.941176470588225\n",
      "revenue 35\n",
      "cost 34\n",
      "twitter\n",
      "ROI -54.16666666666667\n",
      "revenue 11\n",
      "cost 24\n",
      "dict_items([('vk', {'revenue': 103, 'cost': 98, 'ROI': 5.102040816326525}), ('yandex', {'revenue': 179, 'cost': 153, 'ROI': 16.99346405228759}), ('facebook', {'revenue': 103, 'cost': 110, 'ROI': -6.36363636363636}), ('adwords', {'revenue': 35, 'cost': 34, 'ROI': 2.941176470588225}), ('twitter', {'revenue': 11, 'cost': 24, 'ROI': -54.16666666666667})])\n"
     ]
    }
   ],
   "source": [
    "results = {\n",
    "'vk': {'revenue': 103, 'cost': 98},\n",
    "'yandex': {'revenue': 179, 'cost': 153},\n",
    "'facebook': {'revenue': 103, 'cost': 110},\n",
    "'adwords': {'revenue': 35, 'cost': 34},\n",
    "'twitter': {'revenue': 11, 'cost': 24},\n",
    "}\n",
    "\n",
    "for key, value in results.items():\n",
    "    value['ROI'] = (value['revenue'] / value['cost'] - 1) * 100\n",
    "    print(key)\n",
    "    print('ROI', value['ROI'])\n",
    "    print('revenue', value['revenue'])\n",
    "    print('cost', value['cost'])\n",
    "print (results.items())"
   ]
  },
  {
   "cell_type": "markdown",
   "metadata": {},
   "source": [
    "<h5 style=\"color:Red\">Задание 4.</h5><a id='task4'></a>"
   ]
  },
  {
   "cell_type": "code",
   "execution_count": 99,
   "metadata": {},
   "outputs": [
    {
     "name": "stdout",
     "output_type": "stream",
     "text": [
      "Максимальный объем продаж на рекламном канале: vk\n"
     ]
    }
   ],
   "source": [
    "stats = {'facebook': 55, 'yandex': 115, 'vk': 120, 'google': 99, 'email': 42, 'ok': 98} \n",
    "\n",
    "max_val = max(stats, key=stats.get)\n",
    "print ( 'Максимальный объем продаж на рекламном канале:', (max_val))"
   ]
  }
 ],
 "metadata": {
  "kernelspec": {
   "display_name": "Python 3",
   "language": "python",
   "name": "python3"
  },
  "language_info": {
   "codemirror_mode": {
    "name": "ipython",
    "version": 3
   },
   "file_extension": ".py",
   "mimetype": "text/x-python",
   "name": "python",
   "nbconvert_exporter": "python",
   "pygments_lexer": "ipython3",
   "version": "3.7.0"
  }
 },
 "nbformat": 4,
 "nbformat_minor": 2
}
