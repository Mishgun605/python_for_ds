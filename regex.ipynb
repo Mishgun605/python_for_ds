{
 "cells": [
  {
   "cell_type": "markdown",
   "metadata": {},
   "source": [
    "### Домашнее задание к лекции «Регулярные выражения»"
   ]
  },
  {
   "cell_type": "markdown",
   "metadata": {},
   "source": [
    "##### Оглавление\n",
    "[Задание 1.](#task1)   \n",
    "[Задание 2.](#task2)  \n",
    "[Задание 3.](#task3)  \n",
    "[Задание 4.](#task4)   \n",
    "[Задание 5.](#task5)   "
   ]
  },
  {
   "cell_type": "markdown",
   "metadata": {},
   "source": [
    "<h5 style=\"color:Red\">Задание 1.</h5><a id='task1'></a> - Напишите функцию, которая принимает на вход строку и проверяет является ли она валидным транспортным номером (1 буква, 3 цифры, 2 буквы, 2-3 цифры). Обратите внимание, что не все буквы кириллического алфавита используются в транспортных номерах.\n",
    "\n",
    "Если номер валиден, то функция должна возвращать отдельно номер и регион."
   ]
  },
  {
   "cell_type": "code",
   "execution_count": null,
   "metadata": {},
   "outputs": [],
   "source": [
    "import re\n",
    "\n",
    "car_num = input('Введите номер автомобиля ')\n",
    "\n",
    "def validation(number):\n",
    "    car_pattern = '^[АВЕКМНОРСТУХ]\\d{3}(?<!000)[АВЕКМНОРСТУХ]{2}\\d{2,3}'\n",
    "    reg_pattern = re.findall(r'\\d{2,3}$', number)\n",
    "    reg_str = ''.join(reg_pattern)\n",
    "    if re.match(car_pattern, number):\n",
    "        return print(f'Номер {number} правильный. Регион: {reg_str}')\n",
    "    else:\n",
    "        return 'Номер не валиден'\n",
    "    \n",
    "validation(car_num)"
   ]
  },
  {
   "cell_type": "markdown",
   "metadata": {},
   "source": [
    "<h5 style=\"color:Red\">Задание 2.</h5><a id='task2'></a> - Напишите функцию, которая будет удалять все последовательные повторы слов из заданной строки при помощи регулярных выражений."
   ]
  },
  {
   "cell_type": "code",
   "execution_count": null,
   "metadata": {},
   "outputs": [],
   "source": [
    "def del_doubles(some_string):\n",
    "    pattern = r'(\\w+)(\\s+\\1)+'\n",
    "    return re.sub(pattern, r'\\1', some_string)\n",
    "\n",
    "del_doubles('Напишите функцию функцию, которая будет будет будет будет удалять все все все все последовательные повторы слов из из из из заданной строки строки при помощи регулярных выражений')"
   ]
  },
  {
   "cell_type": "markdown",
   "metadata": {},
   "source": [
    "<h5 style=\"color:Red\">Задание 3.</h5><a id='task3'></a> - Напишите функцию, которая будет возвращать акроним по переданной в нее строке со словами."
   ]
  },
  {
   "cell_type": "code",
   "execution_count": null,
   "metadata": {},
   "outputs": [],
   "source": [
    "def acronym(some_string):\n",
    "    rex_exp = re.findall(r'[А-ЯЁ|A-Z]', some_string)\n",
    "    result = ''.join(rex_exp)\n",
    "    return result\n",
    "\n",
    "acronym('Near Field Communication')"
   ]
  },
  {
   "cell_type": "markdown",
   "metadata": {},
   "source": [
    "<h5 style=\"color:Red\">Задание 4.</h5><a id='task4'></a> - Напишите функцию, которая будет принимать на вход список email-адресов и выводить их распределение по доменным зонам."
   ]
  },
  {
   "cell_type": "code",
   "execution_count": 8,
   "metadata": {},
   "outputs": [
    {
     "data": {
      "text/plain": [
       "{'gmail.com': 2, 'test.in': 1, 'ya.ru': 2, 'mail.ru': 1}"
      ]
     },
     "execution_count": 8,
     "metadata": {},
     "output_type": "execute_result"
    }
   ],
   "source": [
    "res = {}\n",
    "emails = ['test@gmail.com', 'xyz@test.in', 'test@ya.ru', 'xyz@mail.ru', 'xyz@ya.ru', 'xyz@gmail.com']\n",
    "def email():\n",
    "    for i in re.findall(r\"(?<=@).+?(?=')\", str(emails)):\n",
    "        res[i] = res.setdefault(i, 0) + 1\n",
    "    return (res)\n",
    "\n",
    "email() "
   ]
  }
 ],
 "metadata": {
  "interpreter": {
   "hash": "b3ba2566441a7c06988d0923437866b63cedc61552a5af99d1f4fb67d367b25f"
  },
  "kernelspec": {
   "display_name": "Python 3.7.0 ('base')",
   "language": "python",
   "name": "python3"
  },
  "language_info": {
   "codemirror_mode": {
    "name": "ipython",
    "version": 3
   },
   "file_extension": ".py",
   "mimetype": "text/x-python",
   "name": "python",
   "nbconvert_exporter": "python",
   "pygments_lexer": "ipython3",
   "version": "3.7.0"
  },
  "orig_nbformat": 4
 },
 "nbformat": 4,
 "nbformat_minor": 2
}
