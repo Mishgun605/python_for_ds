{
 "cells": [
  {
   "cell_type": "markdown",
   "metadata": {},
   "source": [
    "### Домашнее задание к лекции \"Функции\""
   ]
  },
  {
   "cell_type": "markdown",
   "metadata": {},
   "source": [
    "### Оглавление."
   ]
  },
  {
   "cell_type": "markdown",
   "metadata": {},
   "source": [
    "[Задание 1.](#task1)  \n",
    "[Пункт 1.](#subtask1)   \n",
    "[Пункт 2.](#subtask2)  \n",
    "[Пункт 3.](#subtask3)  \n",
    "[Пункт 4.](#subtask4)    \n",
    "[Пункт 5.](#subtask5)  \n",
    " "
   ]
  },
  {
   "cell_type": "markdown",
   "metadata": {},
   "source": [
    "Вам нужно помочь секретарю автоматизировать работу. Для этого нужно написать программу, которая будет на основе хранимых данных исполнять пользовательские команды.\n",
    "\n",
    "Исходные данные имеют следующую структуру:\n",
    "\n",
    "1. перечень всех документов\n",
    "documents = [\n",
    "{‘type’: ‘passport’, ‘number’: ‘2207 876234’, ‘name’: ‘Василий Гупкин’},\n",
    "{‘type’: ‘invoice’, ‘number’: ‘11-2’, ‘name’: ‘Геннадий Покемонов’},\n",
    "{‘type’: ‘insurance’, ‘number’: ‘10006’, ‘name’: ‘Аристарх Павлов’}\n",
    "]\n",
    "\n",
    "2.перечень полок, на которых хранятся документы (если документ есть в documents, то он обязательно должен быть и в directories)\n",
    "\n",
    "directories = {\n",
    "‘1’: [‘2207 876234’, ‘11-2’],\n",
    "‘2’: [‘10006’],\n",
    "‘3’: []\n",
    "}\n",
    "\n",
    "Общие требования к программе:\n",
    "\n",
    "код должен быть грамотно декомпозирован (каждая функция отвечает за свою конкретную задачу, дублирующийся функционал переиспользуется, а его код не повторяется);\n",
    "в коде отсутствуют глобальные переменные (за исключением documents и directories);\n",
    "пользовательский ввод обрабатывается в цикле while до тех пор, пока пользователь явно не завершит программу (вводом команды “q”)."
   ]
  },
  {
   "cell_type": "code",
   "execution_count": 1,
   "metadata": {},
   "outputs": [],
   "source": [
    "documents = [\n",
    "{'type': 'passport', 'number': '2207 876234', 'name': 'Василий Гупкин'},\n",
    "{'type': 'invoice', 'number': '11-2', 'name': 'Геннадий Покемонов'},\n",
    "{'type': 'insurance', 'number': '10006', 'name': 'Аристарх Павлов'}\n",
    "]\n",
    "\n",
    "directories = {\n",
    "'1': ['2207 876234', '11-2'],\n",
    "'2': ['10006'],\n",
    "'3': []\n",
    "}"
   ]
  },
  {
   "cell_type": "markdown",
   "metadata": {},
   "source": [
    "### Задание 1. <a id='task1'></a>"
   ]
  },
  {
   "cell_type": "markdown",
   "metadata": {},
   "source": [
    "<h5 style=\"color:Red\">Пункт 1.</h5><a id='subtask1'></a> Пользователь по команде “p” может узнать владельца документа по его номеру"
   ]
  },
  {
   "cell_type": "code",
   "execution_count": 2,
   "metadata": {},
   "outputs": [
    {
     "name": "stdout",
     "output_type": "stream",
     "text": [
      "Введите номер документа 1122\n"
     ]
    },
    {
     "data": {
      "text/plain": [
       "'Документ не найден в базе'"
      ]
     },
     "execution_count": 2,
     "metadata": {},
     "output_type": "execute_result"
    }
   ],
   "source": [
    "def people():\n",
    "    number = input('Введите номер документа ')\n",
    "    for doc in documents:\n",
    "        if doc.get(\"number\") == number:\n",
    "            return print('Владелец документа:', doc[\"name\"])\n",
    "    return 'Документ не найден в базе'\n",
    "people()"
   ]
  },
  {
   "cell_type": "markdown",
   "metadata": {},
   "source": [
    "<h5 style=\"color:Red\">Пункт 2.</h5><a id='subtask2'></a> Пользователь по команде “s” может по номеру документа узнать на какой полке он хранится"
   ]
  },
  {
   "cell_type": "code",
   "execution_count": 3,
   "metadata": {},
   "outputs": [
    {
     "name": "stdout",
     "output_type": "stream",
     "text": [
      "Введите номер документа:12121\n"
     ]
    },
    {
     "data": {
      "text/plain": [
       "'Документ не найден в базе'"
      ]
     },
     "execution_count": 3,
     "metadata": {},
     "output_type": "execute_result"
    }
   ],
   "source": [
    "def get_shelf():\n",
    "    number = input(\"Введите номер документа:\")\n",
    "    for dir_ in directories.items():\n",
    "        if number in dir_[1]:\n",
    "            return print('Документ находится на полке:', dir_[0])\n",
    "\n",
    "    return \"Документ не найден в базе\"\n",
    "\n",
    "get_shelf()"
   ]
  },
  {
   "cell_type": "markdown",
   "metadata": {},
   "source": [
    "<h5 style=\"color:Red\">Пункт 3.</h5><a id='subtask3'></a>Пользователь по команде “l” может увидеть полную информацию по всем документам"
   ]
  },
  {
   "cell_type": "code",
   "execution_count": 4,
   "metadata": {},
   "outputs": [
    {
     "name": "stdout",
     "output_type": "stream",
     "text": [
      "№: 2207 876234 тип: passport Владелец: Василий Гупкин полка хранения: 1\n",
      "№: 11-2 тип: invoice Владелец: Геннадий Покемонов полка хранения: 1\n",
      "№: 10006 тип: insurance Владелец: Аристарх Павлов полка хранения: 2\n"
     ]
    }
   ],
   "source": [
    "def catalog():\n",
    "    for doc in documents:\n",
    "        for directory in directories.items():\n",
    "            if doc['number'] in directory[1]:\n",
    "                print ('№:', doc['number'], 'тип:', doc['type'],'Владелец:', doc['name'], 'полка хранения:', directory[0])\n",
    "                                 \n",
    "catalog()"
   ]
  },
  {
   "cell_type": "markdown",
   "metadata": {},
   "source": [
    "<h5 style=\"color:Red\">Пункт 4.</h5><a id='subtask4'></a>Пользователь по команде “as” может добавить новую полку"
   ]
  },
  {
   "cell_type": "code",
   "execution_count": 5,
   "metadata": {},
   "outputs": [
    {
     "name": "stdout",
     "output_type": "stream",
     "text": [
      "Введите номер полки: 1212\n"
     ]
    },
    {
     "data": {
      "text/plain": [
       "'Полка добавлена. Текущий перечень полок:1,2,3,1212'"
      ]
     },
     "execution_count": 5,
     "metadata": {},
     "output_type": "execute_result"
    }
   ],
   "source": [
    "def add_shelf(directories):\n",
    "    if shelf in directories:\n",
    "        return 'Такая полка уже существует. Текущий перечень полок: ' + ','.join(directories.keys())\n",
    "    else:\n",
    "        directories[shelf] = []\n",
    "        return 'Полка добавлена. Текущий перечень полок:' + ','.join(directories.keys())\n",
    "\n",
    "shelf = input(\"Введите номер полки: \")\n",
    "add_shelf(directories)"
   ]
  },
  {
   "cell_type": "markdown",
   "metadata": {},
   "source": [
    "<h5 style=\"color:Red\">Пункт 5.</h5><a id='subtask5'></a>Пользователь по команде “ds” может удалить существующую полку из данных (только если она пустая)"
   ]
  },
  {
   "cell_type": "code",
   "execution_count": 6,
   "metadata": {},
   "outputs": [
    {
     "name": "stdout",
     "output_type": "stream",
     "text": [
      "Введите номер полки: 1212\n",
      "Полка удалена. Текущий перечень полок: ['1', '2', '3']\n"
     ]
    }
   ],
   "source": [
    "def del_shelf(archive):\n",
    "    user_shelf_del = input('Введите номер полки: ')\n",
    "    import copy\n",
    "    copy_2_archive = copy.copy(archive)\n",
    "    if user_shelf_del not in copy_2_archive:\n",
    "        print('Такой полки не существует. Текущий перечень полок:', list(copy_2_archive))\n",
    "    elif copy_2_archive[user_shelf_del]:\n",
    "        print('На полке есть документы, удалите их перед удалением полки. Текущий перечень полок:', list(copy_2_archive))\n",
    "    else:\n",
    "        del copy_2_archive[user_shelf_del]\n",
    "        print('Полка удалена. Текущий перечень полок:', list(copy_2_archive))\n",
    "\n",
    "del_shelf(directories) "
   ]
  },
  {
   "cell_type": "markdown",
   "metadata": {},
   "source": [
    "### Собираем воедино"
   ]
  },
  {
   "cell_type": "code",
   "execution_count": 7,
   "metadata": {},
   "outputs": [
    {
     "name": "stdout",
     "output_type": "stream",
     "text": [
      "Возможные команды: p, s, l, as, ds\n",
      "Для выхода из программы используйте команду 'q'\n",
      "Введите название команды fff\n",
      "Команды не существует\n"
     ]
    }
   ],
   "source": [
    "documents = [\n",
    "{'type': 'passport', 'number': '2207 876234', 'name': 'Василий Гупкин'},\n",
    "{'type': 'invoice', 'number': '11-2', 'name': 'Геннадий Покемонов'},\n",
    "{'type': 'insurance', 'number': '10006', 'name': 'Аристарх Павлов'}\n",
    "]\n",
    "\n",
    "directories = {\n",
    "'1': ['2207 876234', '11-2'],\n",
    "'2': ['10006'],\n",
    "'3': []\n",
    "}\n",
    "\n",
    "\n",
    "while True:\n",
    "    print('Возможные команды: p, s, l, as, ds')\n",
    "    print('Для выхода из программы используйте команду \\'q\\'')\n",
    "    command = input('Введите название команды: ')\n",
    "    if command == 'p':\n",
    "        print(people())\n",
    "    elif command == 's':\n",
    "        print(get_shelf())\n",
    "    elif command == 'l':\n",
    "        print(catalog())\n",
    "    elif command == 'as':\n",
    "        print(add_shelf(directories))\n",
    "    elif command == 'ds':\n",
    "        print(delf_shelf(directories))\n",
    "    elif command == 'q':\n",
    "        print('Программа остановлена') \n",
    "        break\n",
    "    else:\n",
    "        print('Команды не существует')\n",
    "        break"
   ]
  }
 ],
 "metadata": {
  "kernelspec": {
   "display_name": "Python 3",
   "language": "python",
   "name": "python3"
  },
  "language_info": {
   "codemirror_mode": {
    "name": "ipython",
    "version": 3
   },
   "file_extension": ".py",
   "mimetype": "text/x-python",
   "name": "python",
   "nbconvert_exporter": "python",
   "pygments_lexer": "ipython3",
   "version": "3.7.0"
  }
 },
 "nbformat": 4,
 "nbformat_minor": 2
}
