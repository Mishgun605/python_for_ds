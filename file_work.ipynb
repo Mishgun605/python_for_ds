{
 "cells": [
  {
   "cell_type": "markdown",
   "metadata": {},
   "source": [
    "### Домашнее задание к лекции «Работа с файловой системой и модули»\n"
   ]
  },
  {
   "cell_type": "markdown",
   "metadata": {},
   "source": [
    "### Оглавление\n",
    "[Задание 1.](#task1)   \n",
    "[Задание 2.](#task2)   "
   ]
  },
  {
   "cell_type": "markdown",
   "metadata": {},
   "source": [
    "<h5 style=\"color:Red\">Задание 1.</h5><a id='task1'></a> -  Переведите содержимое файла purchase_log.txt в словарь purchases вида:\n",
    "{‘1840e0b9d4’: ‘Продукты’, …}\n"
   ]
  },
  {
   "cell_type": "code",
   "execution_count": 4,
   "metadata": {},
   "outputs": [],
   "source": [
    "import json"
   ]
  },
  {
   "cell_type": "code",
   "execution_count": 20,
   "metadata": {},
   "outputs": [],
   "source": [
    "with open('purchase_log.txt', 'r', encoding = 'utf-8') as f:\n",
    "    with open('purchase_log_format.txt', 'w', encoding = 'utf-8') as file2write:\n",
    "        for line in f:\n",
    "            line = line.strip()\n",
    "            purchases = json.loads(line)\n",
    "            key = purchases['user_id']\n",
    "            value = purchases['category']\n",
    "            file2write.write('{}:{}\\n'.format(key,value))"
   ]
  },
  {
   "cell_type": "markdown",
   "metadata": {},
   "source": [
    "<h5 style=\"color:Red\">Задание 2.</h5><a id='task2'></a> - Для каждого user_id в файле visit_log.csv определите третий столбец с категорией покупки (если покупка была, сам файл visit_log.csv изменять не надо). Запишите в файл funnel.csv визиты из файла visit_log.csv, в которых были покупки с указанием категории."
   ]
  },
  {
   "cell_type": "code",
   "execution_count": null,
   "metadata": {},
   "outputs": [],
   "source": [
    "# В файле visit_log.csv нет колонки с указанием категории для визитов user_id, \n",
    "# в связи с этим непонятно откуда брать эту самую категорию ((\n",
    "\n",
    "with open('visit_log.csv', 'r', encoding = 'utf-8') as file1:\n",
    "    with open('funnel.csv', 'w', encoding = 'utf-8') as file2:\n",
    "        for line in f:\n",
    "            if 'context' in file1:\n",
    "                file2.write(line)"
   ]
  }
 ],
 "metadata": {
  "interpreter": {
   "hash": "ac59ebe37160ed0dfa835113d9b8498d9f09ceb179beaac4002f036b9467c963"
  },
  "kernelspec": {
   "display_name": "Python 3.9.1 64-bit",
   "language": "python",
   "name": "python3"
  },
  "language_info": {
   "codemirror_mode": {
    "name": "ipython",
    "version": 3
   },
   "file_extension": ".py",
   "mimetype": "text/x-python",
   "name": "python",
   "nbconvert_exporter": "python",
   "pygments_lexer": "ipython3",
   "version": "3.9.1"
  },
  "orig_nbformat": 4
 },
 "nbformat": 4,
 "nbformat_minor": 2
}
